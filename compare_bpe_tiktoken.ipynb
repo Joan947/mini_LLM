{
  "cells": [
    {
      "cell_type": "markdown",
      "metadata": {
        "id": "view-in-github",
        "colab_type": "text"
      },
      "source": [
        "<a href=\"https://colab.research.google.com/github/Joan947/mini_LLM/blob/main/compare_bpe_tiktoken.ipynb\" target=\"_parent\"><img src=\"https://colab.research.google.com/assets/colab-badge.svg\" alt=\"Open In Colab\"/></a>"
      ]
    },
    {
      "cell_type": "markdown",
      "id": "c503e5ef-6bb4-45c3-ac49-0e016cedd8d0",
      "metadata": {
        "id": "c503e5ef-6bb4-45c3-ac49-0e016cedd8d0"
      },
      "source": [
        "<table style=\"width:100%\">\n",
        "<tr>\n",
        "<td style=\"vertical-align:middle; text-align:left;\">\n",
        "<font size=\"2\">\n",
        "Supplementary code for the <a href=\"http://mng.bz/orYv\">Build a Large Language Model From Scratch</a> book by <a href=\"https://sebastianraschka.com\">Sebastian Raschka</a><br>\n",
        "<br>Code repository: <a href=\"https://github.com/rasbt/LLMs-from-scratch\">https://github.com/rasbt/LLMs-from-scratch</a>\n",
        "</font>\n",
        "</td>\n",
        "<td style=\"vertical-align:middle; text-align:left;\">\n",
        "<a href=\"http://mng.bz/orYv\"><img src=\"https://sebastianraschka.com/images/LLMs-from-scratch-images/cover-small.webp\" width=\"100px\"></a>\n",
        "</td>\n",
        "</tr>\n",
        "</table>\n"
      ]
    },
    {
      "cell_type": "markdown",
      "id": "8a9e554f-58e3-4787-832d-d149add1b857",
      "metadata": {
        "id": "8a9e554f-58e3-4787-832d-d149add1b857"
      },
      "source": [
        "- Install the additional package requirements for this bonus notebook by uncommenting and running the following cell:"
      ]
    },
    {
      "cell_type": "code",
      "execution_count": null,
      "id": "d70bae22-b540-4a13-ab01-e748cb9d55c9",
      "metadata": {
        "colab": {
          "base_uri": "https://localhost:8080/"
        },
        "id": "d70bae22-b540-4a13-ab01-e748cb9d55c9",
        "outputId": "883aee35-830d-4b4b-f6d0-a54061697413"
      },
      "outputs": [
        {
          "output_type": "stream",
          "name": "stdout",
          "text": [
            "Requirement already satisfied: requests in /usr/local/lib/python3.12/dist-packages (from -r requirements-extra.txt (line 1)) (2.32.4)\n",
            "Requirement already satisfied: tqdm in /usr/local/lib/python3.12/dist-packages (from -r requirements-extra.txt (line 2)) (4.67.1)\n",
            "Requirement already satisfied: transformers>=4.33.2 in /usr/local/lib/python3.12/dist-packages (from -r requirements-extra.txt (line 3)) (4.56.1)\n",
            "Requirement already satisfied: charset_normalizer<4,>=2 in /usr/local/lib/python3.12/dist-packages (from requests->-r requirements-extra.txt (line 1)) (3.4.3)\n",
            "Requirement already satisfied: idna<4,>=2.5 in /usr/local/lib/python3.12/dist-packages (from requests->-r requirements-extra.txt (line 1)) (3.10)\n",
            "Requirement already satisfied: urllib3<3,>=1.21.1 in /usr/local/lib/python3.12/dist-packages (from requests->-r requirements-extra.txt (line 1)) (2.5.0)\n",
            "Requirement already satisfied: certifi>=2017.4.17 in /usr/local/lib/python3.12/dist-packages (from requests->-r requirements-extra.txt (line 1)) (2025.8.3)\n",
            "Requirement already satisfied: filelock in /usr/local/lib/python3.12/dist-packages (from transformers>=4.33.2->-r requirements-extra.txt (line 3)) (3.19.1)\n",
            "Requirement already satisfied: huggingface-hub<1.0,>=0.34.0 in /usr/local/lib/python3.12/dist-packages (from transformers>=4.33.2->-r requirements-extra.txt (line 3)) (0.35.0)\n",
            "Requirement already satisfied: numpy>=1.17 in /usr/local/lib/python3.12/dist-packages (from transformers>=4.33.2->-r requirements-extra.txt (line 3)) (2.0.2)\n",
            "Requirement already satisfied: packaging>=20.0 in /usr/local/lib/python3.12/dist-packages (from transformers>=4.33.2->-r requirements-extra.txt (line 3)) (25.0)\n",
            "Requirement already satisfied: pyyaml>=5.1 in /usr/local/lib/python3.12/dist-packages (from transformers>=4.33.2->-r requirements-extra.txt (line 3)) (6.0.2)\n",
            "Requirement already satisfied: regex!=2019.12.17 in /usr/local/lib/python3.12/dist-packages (from transformers>=4.33.2->-r requirements-extra.txt (line 3)) (2024.11.6)\n",
            "Requirement already satisfied: tokenizers<=0.23.0,>=0.22.0 in /usr/local/lib/python3.12/dist-packages (from transformers>=4.33.2->-r requirements-extra.txt (line 3)) (0.22.0)\n",
            "Requirement already satisfied: safetensors>=0.4.3 in /usr/local/lib/python3.12/dist-packages (from transformers>=4.33.2->-r requirements-extra.txt (line 3)) (0.6.2)\n",
            "Requirement already satisfied: fsspec>=2023.5.0 in /usr/local/lib/python3.12/dist-packages (from huggingface-hub<1.0,>=0.34.0->transformers>=4.33.2->-r requirements-extra.txt (line 3)) (2025.3.0)\n",
            "Requirement already satisfied: typing-extensions>=3.7.4.3 in /usr/local/lib/python3.12/dist-packages (from huggingface-hub<1.0,>=0.34.0->transformers>=4.33.2->-r requirements-extra.txt (line 3)) (4.15.0)\n",
            "Requirement already satisfied: hf-xet<2.0.0,>=1.1.3 in /usr/local/lib/python3.12/dist-packages (from huggingface-hub<1.0,>=0.34.0->transformers>=4.33.2->-r requirements-extra.txt (line 3)) (1.1.10)\n"
          ]
        }
      ],
      "source": [
        "#pip install -r requirements-extra.txt"
      ]
    },
    {
      "cell_type": "markdown",
      "id": "737c59bb-5922-46fc-a787-1369d70925b4",
      "metadata": {
        "id": "737c59bb-5922-46fc-a787-1369d70925b4"
      },
      "source": [
        "# Comparing Various Byte Pair Encoding (BPE) Implementations"
      ]
    },
    {
      "cell_type": "markdown",
      "id": "a9adc3bf-353c-411e-a471-0e92786e7103",
      "metadata": {
        "id": "a9adc3bf-353c-411e-a471-0e92786e7103"
      },
      "source": [
        "<br>\n",
        "&nbsp;\n",
        "\n",
        "## Using BPE from `tiktoken`"
      ]
    },
    {
      "cell_type": "code",
      "execution_count": 59,
      "id": "1c490fca-a48a-47fa-a299-322d1a08ad17",
      "metadata": {
        "colab": {
          "base_uri": "https://localhost:8080/"
        },
        "id": "1c490fca-a48a-47fa-a299-322d1a08ad17",
        "outputId": "3bb947ce-3e46-4429-8593-20d8cdacf099"
      },
      "outputs": [
        {
          "output_type": "stream",
          "name": "stdout",
          "text": [
            "tiktoken version: 0.11.0\n"
          ]
        }
      ],
      "source": [
        "from importlib.metadata import version\n",
        "\n",
        "print(\"tiktoken version:\", version(\"tiktoken\"))\n"
      ]
    },
    {
      "cell_type": "code",
      "execution_count": 60,
      "id": "0952667c-ce84-4f21-87db-59f52b44cec4",
      "metadata": {
        "id": "0952667c-ce84-4f21-87db-59f52b44cec4"
      },
      "outputs": [],
      "source": [
        "import tiktoken\n",
        "\n",
        "tik_tokenizer = tiktoken.get_encoding(\"gpt2\")\n",
        "\n",
        "text = \"'Can you understand that, little one? We ate horseflesh.\""
      ]
    },
    {
      "cell_type": "code",
      "execution_count": 61,
      "id": "b039c350-18ad-48fb-8e6a-085702dfc330",
      "metadata": {
        "colab": {
          "base_uri": "https://localhost:8080/"
        },
        "id": "b039c350-18ad-48fb-8e6a-085702dfc330",
        "outputId": "f9896d59-d2af-4029-9c42-c467a6b13c74"
      },
      "outputs": [
        {
          "output_type": "stream",
          "name": "stdout",
          "text": [
            "[6, 6090, 345, 1833, 326, 11, 1310, 530, 30, 775, 15063, 8223, 69, 29730, 13]\n"
          ]
        }
      ],
      "source": [
        "integers = tik_tokenizer.encode(text, allowed_special={\"<|endoftext|>\"})\n",
        "\n",
        "print(integers)"
      ]
    },
    {
      "cell_type": "code",
      "execution_count": 62,
      "id": "7b152ba4-04d3-41cc-849f-adedcfb8cabb",
      "metadata": {
        "colab": {
          "base_uri": "https://localhost:8080/"
        },
        "id": "7b152ba4-04d3-41cc-849f-adedcfb8cabb",
        "outputId": "2a87005e-2443-43ee-f69b-4199c8978962"
      },
      "outputs": [
        {
          "output_type": "stream",
          "name": "stdout",
          "text": [
            "'Can you understand that, little one? We ate horseflesh.\n"
          ]
        }
      ],
      "source": [
        "strings = tik_tokenizer.decode(integers)\n",
        "\n",
        "print(strings)"
      ]
    },
    {
      "cell_type": "code",
      "execution_count": 63,
      "id": "cf148a1a-316b-43ec-b7ba-1b6d409ce837",
      "metadata": {
        "colab": {
          "base_uri": "https://localhost:8080/"
        },
        "id": "cf148a1a-316b-43ec-b7ba-1b6d409ce837",
        "outputId": "e637d434-4fa9-48ef-93a4-3e70ff3957ae"
      },
      "outputs": [
        {
          "output_type": "stream",
          "name": "stdout",
          "text": [
            "50257\n"
          ]
        }
      ],
      "source": [
        "print(tik_tokenizer.n_vocab)"
      ]
    },
    {
      "cell_type": "markdown",
      "id": "6a0b5d4f-2af9-40de-828c-063c4243e771",
      "metadata": {
        "id": "6a0b5d4f-2af9-40de-828c-063c4243e771"
      },
      "source": [
        "<br>\n",
        "&nbsp;\n",
        "\n",
        "## Using the original BPE implementation used in GPT-2"
      ]
    },
    {
      "cell_type": "code",
      "execution_count": 64,
      "id": "0903108c-65cb-4ae1-967a-2155e25349c2",
      "metadata": {
        "id": "0903108c-65cb-4ae1-967a-2155e25349c2"
      },
      "outputs": [],
      "source": [
        "from bpe_openai_gpt2 import get_encoder, download_vocab"
      ]
    },
    {
      "cell_type": "code",
      "execution_count": 65,
      "id": "35dd8d7c-8c12-4b68-941a-0fd05882dd45",
      "metadata": {
        "colab": {
          "base_uri": "https://localhost:8080/"
        },
        "id": "35dd8d7c-8c12-4b68-941a-0fd05882dd45",
        "outputId": "ca0fd117-5901-41d0-83b9-7bdeda47f392"
      },
      "outputs": [
        {
          "output_type": "stream",
          "name": "stderr",
          "text": [
            "Fetching encoder.json: 1.04Mit [00:00, 3.92Mit/s]                                                   \n",
            "Fetching vocab.bpe: 457kit [00:00, 3.22Mit/s]                                                       \n"
          ]
        }
      ],
      "source": [
        "download_vocab()"
      ]
    },
    {
      "cell_type": "code",
      "execution_count": 66,
      "id": "1888a7a9-9c40-4fe0-99b4-ebd20aa1ffd0",
      "metadata": {
        "id": "1888a7a9-9c40-4fe0-99b4-ebd20aa1ffd0"
      },
      "outputs": [],
      "source": [
        "orig_tokenizer = get_encoder(model_name=\"gpt2_model\", models_dir=\".\")"
      ]
    },
    {
      "cell_type": "code",
      "execution_count": 67,
      "id": "2740510c-a78a-4fba-ae18-2b156ba2dfef",
      "metadata": {
        "colab": {
          "base_uri": "https://localhost:8080/"
        },
        "id": "2740510c-a78a-4fba-ae18-2b156ba2dfef",
        "outputId": "d18a482d-2753-4d03-f58e-0d14981d3485"
      },
      "outputs": [
        {
          "output_type": "stream",
          "name": "stdout",
          "text": [
            "[6, 6090, 345, 1833, 326, 11, 1310, 530, 30, 775, 15063, 8223, 69, 29730, 13]\n"
          ]
        }
      ],
      "source": [
        "integers = orig_tokenizer.encode(text)\n",
        "\n",
        "print(integers)"
      ]
    },
    {
      "cell_type": "code",
      "execution_count": 68,
      "id": "434d115e-990d-42ad-88dd-31323a96e10f",
      "metadata": {
        "colab": {
          "base_uri": "https://localhost:8080/"
        },
        "id": "434d115e-990d-42ad-88dd-31323a96e10f",
        "outputId": "6558138a-0306-412f-d449-a142c8bcdd0d"
      },
      "outputs": [
        {
          "output_type": "stream",
          "name": "stdout",
          "text": [
            "'Can you understand that, little one? We ate horseflesh.\n"
          ]
        }
      ],
      "source": [
        "strings = orig_tokenizer.decode(integers)\n",
        "\n",
        "print(strings)"
      ]
    },
    {
      "cell_type": "markdown",
      "id": "4f63e8c6-707c-4d66-bcf8-dd790647cc86",
      "metadata": {
        "id": "4f63e8c6-707c-4d66-bcf8-dd790647cc86"
      },
      "source": [
        "<br>\n",
        "&nbsp;\n",
        "\n",
        "## Using the BPE via Hugging Face transformers"
      ]
    },
    {
      "cell_type": "code",
      "execution_count": null,
      "id": "e9077bf4-f91f-42ad-ab76-f3d89128510e",
      "metadata": {
        "colab": {
          "base_uri": "https://localhost:8080/",
          "height": 35
        },
        "id": "e9077bf4-f91f-42ad-ab76-f3d89128510e",
        "outputId": "7976b60f-37a3-4810-da1e-921b0f97b710"
      },
      "outputs": [
        {
          "output_type": "execute_result",
          "data": {
            "text/plain": [
              "'4.56.1'"
            ],
            "application/vnd.google.colaboratory.intrinsic+json": {
              "type": "string"
            }
          },
          "metadata": {},
          "execution_count": 14
        }
      ],
      "source": [
        "import transformers\n",
        "\n",
        "transformers.__version__"
      ]
    },
    {
      "cell_type": "code",
      "execution_count": 69,
      "id": "a9839137-b8ea-4a2c-85fc-9a63064cf8c8",
      "metadata": {
        "id": "a9839137-b8ea-4a2c-85fc-9a63064cf8c8"
      },
      "outputs": [],
      "source": [
        "from transformers import GPT2Tokenizer\n",
        "\n",
        "hf_tokenizer = GPT2Tokenizer.from_pretrained(\"gpt2\")"
      ]
    },
    {
      "cell_type": "code",
      "execution_count": 70,
      "id": "222cbd69-6a3d-4868-9c1f-421ffc9d5fe1",
      "metadata": {
        "colab": {
          "base_uri": "https://localhost:8080/"
        },
        "id": "222cbd69-6a3d-4868-9c1f-421ffc9d5fe1",
        "outputId": "9e730473-d976-4d7d-9365-448c3aa15975"
      },
      "outputs": [
        {
          "output_type": "execute_result",
          "data": {
            "text/plain": [
              "[6, 6090, 345, 1833, 326, 11, 1310, 530, 30, 775, 15063, 8223, 69, 29730, 13]"
            ]
          },
          "metadata": {},
          "execution_count": 70
        }
      ],
      "source": [
        "hf_tokenizer(strings)[\"input_ids\"]"
      ]
    },
    {
      "cell_type": "code",
      "execution_count": 71,
      "id": "a6233552",
      "metadata": {
        "id": "a6233552"
      },
      "outputs": [],
      "source": [
        "from transformers import GPT2TokenizerFast\n",
        "\n",
        "hf_tokenizer_fast = GPT2TokenizerFast.from_pretrained(\"gpt2\")"
      ]
    },
    {
      "cell_type": "code",
      "execution_count": 72,
      "id": "fa5ca643",
      "metadata": {
        "colab": {
          "base_uri": "https://localhost:8080/"
        },
        "id": "fa5ca643",
        "outputId": "cfac48f2-35c8-47e2-e41a-f498abe16993"
      },
      "outputs": [
        {
          "output_type": "execute_result",
          "data": {
            "text/plain": [
              "[6, 6090, 345, 1833, 326, 11, 1310, 530, 30, 775, 15063, 8223, 69, 29730, 13]"
            ]
          },
          "metadata": {},
          "execution_count": 72
        }
      ],
      "source": [
        "hf_tokenizer_fast(strings)[\"input_ids\"]"
      ]
    },
    {
      "cell_type": "markdown",
      "id": "9d0f2e95-8ae8-4606-a8e0-b0fce91cfac9",
      "metadata": {
        "id": "9d0f2e95-8ae8-4606-a8e0-b0fce91cfac9"
      },
      "source": [
        "<br>\n",
        "&nbsp;\n",
        "\n",
        "## Using my own from-scratch BPE tokenizer"
      ]
    },
    {
      "cell_type": "code",
      "execution_count": 74,
      "id": "b6e6b1a5-9dc0-4b20-9a8b-c02aa0e3191c",
      "metadata": {
        "id": "b6e6b1a5-9dc0-4b20-9a8b-c02aa0e3191c"
      },
      "outputs": [],
      "source": [
        "import os\n",
        "import sys\n",
        "import io\n",
        "import nbformat\n",
        "import types\n",
        "\n",
        "def import_from_notebook():\n",
        "    def import_definitions_from_notebook(fullname, names):\n",
        "        current_dir = os.getcwd()\n",
        "        path = os.path.join( fullname + \".ipynb\")\n",
        "        path = os.path.normpath(path)\n",
        "\n",
        "        # Load the notebook\n",
        "        if not os.path.exists(path):\n",
        "            raise FileNotFoundError(f\"Notebook file not found at: {path}\")\n",
        "\n",
        "        with io.open(path, \"r\", encoding=\"utf-8\") as f:\n",
        "            nb = nbformat.read(f, as_version=4)\n",
        "\n",
        "        # Create a module to store the imported functions and classes\n",
        "        mod = types.ModuleType(fullname)\n",
        "        sys.modules[fullname] = mod\n",
        "\n",
        "        # Go through the notebook cells and only execute function or class definitions\n",
        "        for cell in nb.cells:\n",
        "            if cell.cell_type == \"code\":\n",
        "                cell_code = cell.source\n",
        "                for name in names:\n",
        "                    # Check for function or class definitions\n",
        "                    if f\"def {name}\" in cell_code or f\"class {name}\" in cell_code:\n",
        "                        exec(cell_code, mod.__dict__)\n",
        "        return mod\n",
        "\n",
        "    fullname = \"bpe-from-scratch\"\n",
        "    names = [\"BPETokenizerSimple\"]\n",
        "\n",
        "    return import_definitions_from_notebook(fullname, names)"
      ]
    },
    {
      "cell_type": "code",
      "execution_count": 75,
      "id": "04fbd764-ec98-44f1-9b0a-e9db9a3bb91e",
      "metadata": {
        "id": "04fbd764-ec98-44f1-9b0a-e9db9a3bb91e"
      },
      "outputs": [],
      "source": [
        "imported_module = import_from_notebook()\n",
        "BPETokenizerSimple = getattr(imported_module, \"BPETokenizerSimple\", None)\n",
        "\n",
        "tokenizer_gpt2 = BPETokenizerSimple()\n",
        "tokenizer_gpt2.load_vocab_and_merges_from_openai(\n",
        "    vocab_path=os.path.join(\"gpt2_model\", \"encoder.json\"),\n",
        "    bpe_merges_path=os.path.join(\"gpt2_model\", \"vocab.bpe\")\n",
        ")"
      ]
    },
    {
      "cell_type": "code",
      "execution_count": 76,
      "id": "5a5def88-1d2c-4550-a5e8-ee82b72b92d7",
      "metadata": {
        "id": "5a5def88-1d2c-4550-a5e8-ee82b72b92d7",
        "outputId": "10751976-30bf-4e59-e508-b071efa70792",
        "colab": {
          "base_uri": "https://localhost:8080/"
        }
      },
      "outputs": [
        {
          "output_type": "stream",
          "name": "stdout",
          "text": [
            "[6, 6090, 345, 1833, 326, 11, 1310, 530, 30, 775, 15063, 8223, 69, 29730, 13]\n"
          ]
        }
      ],
      "source": [
        "integers = tokenizer_gpt2.encode(text)\n",
        "\n",
        "print(integers)"
      ]
    },
    {
      "cell_type": "markdown",
      "id": "907a1ade-3401-4f2e-9017-7f58a60cbd98",
      "metadata": {
        "id": "907a1ade-3401-4f2e-9017-7f58a60cbd98"
      },
      "source": [
        "<br>\n",
        "&nbsp;\n",
        "\n",
        "## A quick performance benchmark"
      ]
    },
    {
      "cell_type": "code",
      "execution_count": 91,
      "id": "a61bb445-b151-4a2f-8180-d4004c503754",
      "metadata": {
        "id": "a61bb445-b151-4a2f-8180-d4004c503754"
      },
      "outputs": [],
      "source": [
        "import os\n",
        "import urllib.request\n",
        "if not os.path.exists(\"siege-of-berlin.txt\"):\n",
        "    url = (\"https://raw.githubusercontent.com/Joan947/\"\n",
        "           \"mini_LLM/main/\"\n",
        "           \"siege-of-berlin.txt\")\n",
        "    file_path = \"siege-of-berlin.txt\"\n",
        "    urllib.request.urlretrieve(url, file_path)\n",
        "with open(\"siege-of-berlin.txt\", \"r\", encoding=\"utf-8\") as f:\n",
        "    raw_text = f.read()"
      ]
    },
    {
      "cell_type": "markdown",
      "id": "9c0ae9f0-47a1-4e7f-a210-e1d2721f4d1e",
      "metadata": {
        "id": "9c0ae9f0-47a1-4e7f-a210-e1d2721f4d1e"
      },
      "source": [
        "### Original OpenAI GPT-2 tokenizer"
      ]
    },
    {
      "cell_type": "code",
      "execution_count": 82,
      "id": "57f7c0a3-c1fd-4313-af34-68e78eb33653",
      "metadata": {
        "id": "57f7c0a3-c1fd-4313-af34-68e78eb33653",
        "outputId": "ed124d14-bd40-4268-f3aa-1c971ce47cbd",
        "colab": {
          "base_uri": "https://localhost:8080/"
        }
      },
      "outputs": [
        {
          "output_type": "stream",
          "name": "stdout",
          "text": [
            "6.43 ms ± 186 µs per loop (mean ± std. dev. of 7 runs, 100 loops each)\n"
          ]
        }
      ],
      "source": [
        "%timeit orig_tokenizer.encode(raw_text)"
      ]
    },
    {
      "cell_type": "markdown",
      "id": "ef2ce3f3-1f81-47ce-b563-99fe2c7a1e90",
      "metadata": {
        "id": "ef2ce3f3-1f81-47ce-b563-99fe2c7a1e90"
      },
      "source": [
        "### Tiktoken OpenAI GPT-2 tokenizer"
      ]
    },
    {
      "cell_type": "code",
      "execution_count": 83,
      "id": "036dd628-3591-46c9-a5ce-b20b105a8062",
      "metadata": {
        "id": "036dd628-3591-46c9-a5ce-b20b105a8062",
        "outputId": "55a4d68f-cb87-409f-9240-a17f6f9b85b6",
        "colab": {
          "base_uri": "https://localhost:8080/"
        }
      },
      "outputs": [
        {
          "output_type": "stream",
          "name": "stdout",
          "text": [
            "2.52 ms ± 37.5 µs per loop (mean ± std. dev. of 7 runs, 100 loops each)\n"
          ]
        }
      ],
      "source": [
        "%timeit tik_tokenizer.encode(raw_text)"
      ]
    },
    {
      "cell_type": "markdown",
      "id": "0c748de8-273e-42df-b078-3a510106da60",
      "metadata": {
        "id": "0c748de8-273e-42df-b078-3a510106da60"
      },
      "source": [
        "### Hugging Face OpenAI GPT-2 tokenizer"
      ]
    },
    {
      "cell_type": "code",
      "execution_count": 85,
      "id": "b9c85b58-bfbc-465e-9a7e-477e53d55c90",
      "metadata": {
        "id": "b9c85b58-bfbc-465e-9a7e-477e53d55c90",
        "outputId": "b8b815b1-8e00-437e-c30f-d5ea4cc786b4",
        "colab": {
          "base_uri": "https://localhost:8080/"
        }
      },
      "outputs": [
        {
          "output_type": "stream",
          "name": "stdout",
          "text": [
            "19.2 ms ± 5.02 ms per loop (mean ± std. dev. of 7 runs, 100 loops each)\n"
          ]
        }
      ],
      "source": [
        "%timeit hf_tokenizer(raw_text)[\"input_ids\"]"
      ]
    },
    {
      "cell_type": "code",
      "execution_count": 86,
      "id": "7117107f-22a6-46b4-a442-712d50b3ac7a",
      "metadata": {
        "id": "7117107f-22a6-46b4-a442-712d50b3ac7a",
        "outputId": "a43be174-1d13-4217-e305-d3d4956a0f0e",
        "colab": {
          "base_uri": "https://localhost:8080/"
        }
      },
      "outputs": [
        {
          "output_type": "stream",
          "name": "stdout",
          "text": [
            "19.4 ms ± 5.34 ms per loop (mean ± std. dev. of 7 runs, 100 loops each)\n"
          ]
        }
      ],
      "source": [
        "%timeit hf_tokenizer(raw_text, max_length=5145, truncation=True)[\"input_ids\"]"
      ]
    },
    {
      "cell_type": "code",
      "execution_count": 87,
      "id": "d6bfc7f0",
      "metadata": {
        "id": "d6bfc7f0",
        "outputId": "8b9626c8-64cf-4a1a-cf43-21f76c797119",
        "colab": {
          "base_uri": "https://localhost:8080/"
        }
      },
      "outputs": [
        {
          "output_type": "stream",
          "name": "stderr",
          "text": [
            "Token indices sequence length is longer than the specified maximum sequence length for this model (2406 > 1024). Running this sequence through the model will result in indexing errors\n"
          ]
        },
        {
          "output_type": "stream",
          "name": "stdout",
          "text": [
            "8.56 ms ± 213 µs per loop (mean ± std. dev. of 7 runs, 100 loops each)\n"
          ]
        }
      ],
      "source": [
        "%timeit hf_tokenizer_fast(raw_text)[\"input_ids\"]"
      ]
    },
    {
      "cell_type": "code",
      "execution_count": 88,
      "id": "da57c95a",
      "metadata": {
        "id": "da57c95a",
        "outputId": "24d64bf8-64fb-497e-aa6d-335f708a9fd1",
        "colab": {
          "base_uri": "https://localhost:8080/"
        }
      },
      "outputs": [
        {
          "output_type": "stream",
          "name": "stdout",
          "text": [
            "8.62 ms ± 462 µs per loop (mean ± std. dev. of 7 runs, 100 loops each)\n"
          ]
        }
      ],
      "source": [
        "%timeit hf_tokenizer_fast(raw_text, max_length=5145, truncation=True)[\"input_ids\"]"
      ]
    },
    {
      "cell_type": "markdown",
      "id": "91ac2876-f36e-498c-bd75-8597a39f2d4b",
      "metadata": {
        "id": "91ac2876-f36e-498c-bd75-8597a39f2d4b"
      },
      "source": [
        "### My own GPT-2 tokenizer (for educational purposes)"
      ]
    },
    {
      "cell_type": "code",
      "execution_count": 92,
      "id": "3b4ff4d5-f2d9-4ea6-a51c-023dbba15429",
      "metadata": {
        "id": "3b4ff4d5-f2d9-4ea6-a51c-023dbba15429",
        "outputId": "4f9de9de-b7aa-413c-d003-f96291c080b3",
        "colab": {
          "base_uri": "https://localhost:8080/"
        }
      },
      "outputs": [
        {
          "output_type": "stream",
          "name": "stdout",
          "text": [
            "19.7 ms ± 794 µs per loop (mean ± std. dev. of 7 runs, 10 loops each)\n"
          ]
        }
      ],
      "source": [
        "%timeit tokenizer_gpt2.encode(raw_text)"
      ]
    }
  ],
  "metadata": {
    "kernelspec": {
      "display_name": "Python 3 (ipykernel)",
      "language": "python",
      "name": "python3"
    },
    "language_info": {
      "codemirror_mode": {
        "name": "ipython",
        "version": 3
      },
      "file_extension": ".py",
      "mimetype": "text/x-python",
      "name": "python",
      "nbconvert_exporter": "python",
      "pygments_lexer": "ipython3",
      "version": "3.10.16"
    },
    "colab": {
      "provenance": [],
      "include_colab_link": true
    }
  },
  "nbformat": 4,
  "nbformat_minor": 5
}